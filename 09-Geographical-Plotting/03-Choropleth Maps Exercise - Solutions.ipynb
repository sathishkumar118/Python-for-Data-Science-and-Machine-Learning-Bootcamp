{
  "cells": [
    {
      "metadata": {},
      "cell_type": "markdown",
      "source": "___\n\n<a href='http://www.pieriandata.com'> <img src='../Pierian_Data_Logo.png' /></a>\n___"
    },
    {
      "metadata": {},
      "cell_type": "markdown",
      "source": "# Choropleth Maps Exercise - Solutions\n\nWelcome to the Choropleth Maps Exercise! In this exercise we will give you some simple datasets and ask you to create Choropleth Maps from them. Due to the Nature of Plotly we can't show you examples embedded inside the notebook.\n\n[Full Documentation Reference](https://plot.ly/python/reference/#choropleth)\n\n## Plotly Imports"
    },
    {
      "metadata": {
        "trusted": true
      },
      "cell_type": "code",
      "source": "import plotly.graph_objs as go \nfrom plotly.offline import init_notebook_mode,iplot,plot\ninit_notebook_mode(connected=True) ",
      "execution_count": 13,
      "outputs": [
        {
          "output_type": "display_data",
          "data": {
            "text/html": "        <script type=\"text/javascript\">\n        window.PlotlyConfig = {MathJaxConfig: 'local'};\n        if (window.MathJax) {MathJax.Hub.Config({SVG: {font: \"STIX-Web\"}});}\n        if (typeof require !== 'undefined') {\n        require.undef(\"plotly\");\n        requirejs.config({\n            paths: {\n                'plotly': ['https://cdn.plot.ly/plotly-latest.min']\n            }\n        });\n        require(['plotly'], function(Plotly) {\n            window._Plotly = Plotly;\n        });\n        }\n        </script>\n        "
          },
          "metadata": {}
        }
      ]
    },
    {
      "metadata": {},
      "cell_type": "markdown",
      "source": "** Import pandas and read the csv file: 2014_World_Power_Consumption**"
    },
    {
      "metadata": {
        "trusted": true
      },
      "cell_type": "code",
      "source": "import pandas as pd",
      "execution_count": 14,
      "outputs": []
    },
    {
      "metadata": {
        "trusted": true
      },
      "cell_type": "code",
      "source": "df = pd.read_csv('2014_World_Power_Consumption')",
      "execution_count": 15,
      "outputs": []
    },
    {
      "metadata": {},
      "cell_type": "markdown",
      "source": "** Check the head of the DataFrame. **"
    },
    {
      "metadata": {
        "trusted": true
      },
      "cell_type": "code",
      "source": "df.head()",
      "execution_count": 16,
      "outputs": [
        {
          "output_type": "execute_result",
          "execution_count": 16,
          "data": {
            "text/plain": "         Country  Power Consumption KWH                        Text\n0          China           5.523000e+12     China 5,523,000,000,000\n1  United States           3.832000e+12    United 3,832,000,000,000\n2       European           2.771000e+12  European 2,771,000,000,000\n3         Russia           1.065000e+12    Russia 1,065,000,000,000\n4          Japan           9.210000e+11       Japan 921,000,000,000",
            "text/html": "<div>\n<table border=\"1\" class=\"dataframe\">\n  <thead>\n    <tr style=\"text-align: right;\">\n      <th></th>\n      <th>Country</th>\n      <th>Power Consumption KWH</th>\n      <th>Text</th>\n    </tr>\n  </thead>\n  <tbody>\n    <tr>\n      <th>0</th>\n      <td>China</td>\n      <td>5.523000e+12</td>\n      <td>China 5,523,000,000,000</td>\n    </tr>\n    <tr>\n      <th>1</th>\n      <td>United States</td>\n      <td>3.832000e+12</td>\n      <td>United 3,832,000,000,000</td>\n    </tr>\n    <tr>\n      <th>2</th>\n      <td>European</td>\n      <td>2.771000e+12</td>\n      <td>European 2,771,000,000,000</td>\n    </tr>\n    <tr>\n      <th>3</th>\n      <td>Russia</td>\n      <td>1.065000e+12</td>\n      <td>Russia 1,065,000,000,000</td>\n    </tr>\n    <tr>\n      <th>4</th>\n      <td>Japan</td>\n      <td>9.210000e+11</td>\n      <td>Japan 921,000,000,000</td>\n    </tr>\n  </tbody>\n</table>\n</div>"
          },
          "metadata": {}
        }
      ]
    },
    {
      "metadata": {},
      "cell_type": "markdown",
      "source": "** Referencing the lecture notes, create a Choropleth Plot of the Power Consumption for Countries using the data and layout dictionary. **"
    },
    {
      "metadata": {
        "trusted": true
      },
      "cell_type": "code",
      "source": "data = dict(\n        type = 'choropleth',\n        colorscale = 'Viridis',\n        reversescale = True,\n        locations = df['Country'],\n        locationmode = \"country names\",\n        z = df['Power Consumption KWH'],\n        text = df['Country'],\n        colorbar = {'title' : 'Power Consumption KWH'},\n      ) \n\nlayout = dict(title = '2014 Power Consumption KWH',\n                geo = dict(showframe = False,projection = {'type':'mercator'})\n             )",
      "execution_count": 17,
      "outputs": []
    },
    {
      "metadata": {
        "trusted": true
      },
      "cell_type": "code",
      "source": "choromap = go.Figure(data = [data],layout = layout)\nplot(choromap,validate=False)",
      "execution_count": 18,
      "outputs": [
        {
          "output_type": "execute_result",
          "execution_count": 18,
          "data": {
            "text/plain": "'temp-plot.html'"
          },
          "metadata": {}
        }
      ]
    },
    {
      "metadata": {},
      "cell_type": "markdown",
      "source": "## USA Choropleth\n\n** Import the 2012_Election_Data csv file using pandas. **"
    },
    {
      "metadata": {
        "trusted": true
      },
      "cell_type": "code",
      "source": "usdf = pd.read_csv('2012_Election_Data')",
      "execution_count": 19,
      "outputs": []
    },
    {
      "metadata": {},
      "cell_type": "markdown",
      "source": "** Check the head of the DataFrame. **"
    },
    {
      "metadata": {
        "trusted": true
      },
      "cell_type": "code",
      "source": "usdf.head()",
      "execution_count": 20,
      "outputs": [
        {
          "output_type": "execute_result",
          "execution_count": 20,
          "data": {
            "text/plain": "   Year  ICPSR State Code  Alphanumeric State Code       State  \\\n0  2012                41                        1     Alabama   \n1  2012                81                        2      Alaska   \n2  2012                61                        3     Arizona   \n3  2012                42                        4    Arkansas   \n4  2012                71                        5  California   \n\n  VEP Total Ballots Counted VEP Highest Office VAP Highest Office  \\\n0                       NaN              58.6%              56.0%   \n1                     58.9%              58.7%              55.3%   \n2                     53.0%              52.6%              46.5%   \n3                     51.1%              50.7%              47.7%   \n4                     55.7%              55.1%              45.1%   \n\n  Total Ballots Counted Highest Office Voting-Eligible Population (VEP)  \\\n0                   NaN      2,074,338                        3,539,217   \n1               301,694        300,495                          511,792   \n2             2,323,579      2,306,559                        4,387,900   \n3             1,078,548      1,069,468                        2,109,847   \n4            13,202,158     13,038,547                       23,681,837   \n\n   Voting-Age Population (VAP) % Non-citizen   Prison Probation  Parole  \\\n0                    3707440.0          2.6%   32,232    57,993   8,616   \n1                     543763.0          3.8%    5,633     7,173   1,882   \n2                    4959270.0          9.9%   35,188    72,452   7,460   \n3                    2242740.0          3.5%   14,471    30,122  23,372   \n4                   28913129.0         17.4%  119,455         0  89,287   \n\n  Total Ineligible Felon State Abv  \n0                 71,584        AL  \n1                 11,317        AK  \n2                 81,048        AZ  \n3                 53,808        AR  \n4                208,742        CA  ",
            "text/html": "<div>\n<table border=\"1\" class=\"dataframe\">\n  <thead>\n    <tr style=\"text-align: right;\">\n      <th></th>\n      <th>Year</th>\n      <th>ICPSR State Code</th>\n      <th>Alphanumeric State Code</th>\n      <th>State</th>\n      <th>VEP Total Ballots Counted</th>\n      <th>VEP Highest Office</th>\n      <th>VAP Highest Office</th>\n      <th>Total Ballots Counted</th>\n      <th>Highest Office</th>\n      <th>Voting-Eligible Population (VEP)</th>\n      <th>Voting-Age Population (VAP)</th>\n      <th>% Non-citizen</th>\n      <th>Prison</th>\n      <th>Probation</th>\n      <th>Parole</th>\n      <th>Total Ineligible Felon</th>\n      <th>State Abv</th>\n    </tr>\n  </thead>\n  <tbody>\n    <tr>\n      <th>0</th>\n      <td>2012</td>\n      <td>41</td>\n      <td>1</td>\n      <td>Alabama</td>\n      <td>NaN</td>\n      <td>58.6%</td>\n      <td>56.0%</td>\n      <td>NaN</td>\n      <td>2,074,338</td>\n      <td>3,539,217</td>\n      <td>3707440.0</td>\n      <td>2.6%</td>\n      <td>32,232</td>\n      <td>57,993</td>\n      <td>8,616</td>\n      <td>71,584</td>\n      <td>AL</td>\n    </tr>\n    <tr>\n      <th>1</th>\n      <td>2012</td>\n      <td>81</td>\n      <td>2</td>\n      <td>Alaska</td>\n      <td>58.9%</td>\n      <td>58.7%</td>\n      <td>55.3%</td>\n      <td>301,694</td>\n      <td>300,495</td>\n      <td>511,792</td>\n      <td>543763.0</td>\n      <td>3.8%</td>\n      <td>5,633</td>\n      <td>7,173</td>\n      <td>1,882</td>\n      <td>11,317</td>\n      <td>AK</td>\n    </tr>\n    <tr>\n      <th>2</th>\n      <td>2012</td>\n      <td>61</td>\n      <td>3</td>\n      <td>Arizona</td>\n      <td>53.0%</td>\n      <td>52.6%</td>\n      <td>46.5%</td>\n      <td>2,323,579</td>\n      <td>2,306,559</td>\n      <td>4,387,900</td>\n      <td>4959270.0</td>\n      <td>9.9%</td>\n      <td>35,188</td>\n      <td>72,452</td>\n      <td>7,460</td>\n      <td>81,048</td>\n      <td>AZ</td>\n    </tr>\n    <tr>\n      <th>3</th>\n      <td>2012</td>\n      <td>42</td>\n      <td>4</td>\n      <td>Arkansas</td>\n      <td>51.1%</td>\n      <td>50.7%</td>\n      <td>47.7%</td>\n      <td>1,078,548</td>\n      <td>1,069,468</td>\n      <td>2,109,847</td>\n      <td>2242740.0</td>\n      <td>3.5%</td>\n      <td>14,471</td>\n      <td>30,122</td>\n      <td>23,372</td>\n      <td>53,808</td>\n      <td>AR</td>\n    </tr>\n    <tr>\n      <th>4</th>\n      <td>2012</td>\n      <td>71</td>\n      <td>5</td>\n      <td>California</td>\n      <td>55.7%</td>\n      <td>55.1%</td>\n      <td>45.1%</td>\n      <td>13,202,158</td>\n      <td>13,038,547</td>\n      <td>23,681,837</td>\n      <td>28913129.0</td>\n      <td>17.4%</td>\n      <td>119,455</td>\n      <td>0</td>\n      <td>89,287</td>\n      <td>208,742</td>\n      <td>CA</td>\n    </tr>\n  </tbody>\n</table>\n</div>"
          },
          "metadata": {}
        }
      ]
    },
    {
      "metadata": {},
      "cell_type": "markdown",
      "source": "** Now create a plot that displays the Voting-Age Population (VAP) per state. If you later want to play around with other columns, make sure you consider their data type. VAP has already been transformed to a float for you. **"
    },
    {
      "metadata": {
        "trusted": true
      },
      "cell_type": "code",
      "source": "data = dict(type='choropleth',\n            colorscale = 'Viridis',\n            reversescale = True,\n            locations = usdf['State Abv'],\n            z = usdf['Voting-Age Population (VAP)'],\n            locationmode = 'USA-states',\n            text = usdf['State'],\n            marker = dict(line = dict(color = 'rgb(255,255,255)',width = 1)),\n            colorbar = {'title':\"Voting-Age Population (VAP)\"}\n            ) ",
      "execution_count": 21,
      "outputs": []
    },
    {
      "metadata": {
        "trusted": true
      },
      "cell_type": "code",
      "source": "layout = dict(title = '2012 General Election Voting Data',\n              geo = dict(scope='usa',\n                         showlakes = True,\n                         lakecolor = 'rgb(85,173,240)')\n             )",
      "execution_count": 22,
      "outputs": []
    },
    {
      "metadata": {
        "trusted": true
      },
      "cell_type": "code",
      "source": "choromap = go.Figure(data = [data],layout = layout)\nplot(choromap,validate=False)",
      "execution_count": 23,
      "outputs": [
        {
          "output_type": "execute_result",
          "execution_count": 23,
          "data": {
            "text/plain": "'temp-plot.html'"
          },
          "metadata": {}
        }
      ]
    },
    {
      "metadata": {},
      "cell_type": "markdown",
      "source": "# Great Job!"
    }
  ],
  "metadata": {
    "kernelspec": {
      "name": "python3",
      "display_name": "Python 3",
      "language": "python"
    },
    "language_info": {
      "mimetype": "text/x-python",
      "nbconvert_exporter": "python",
      "name": "python",
      "pygments_lexer": "ipython3",
      "version": "3.5.4",
      "file_extension": ".py",
      "codemirror_mode": {
        "version": 3,
        "name": "ipython"
      }
    }
  },
  "nbformat": 4,
  "nbformat_minor": 1
}